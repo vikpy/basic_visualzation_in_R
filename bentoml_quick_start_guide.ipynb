{
  "nbformat": 4,
  "nbformat_minor": 0,
  "metadata": {
    "colab": {
      "name": "bentoml_quick_start_guide.ipynb",
      "provenance": [],
      "include_colab_link": true
    },
    "kernelspec": {
      "display_name": "Python 3",
      "language": "python",
      "name": "python3"
    },
    "language_info": {
      "codemirror_mode": {
        "name": "ipython",
        "version": 3
      },
      "file_extension": ".py",
      "mimetype": "text/x-python",
      "name": "python",
      "nbconvert_exporter": "python",
      "pygments_lexer": "ipython3",
      "version": "3.7.4"
    }
  },
  "cells": [
    {
      "cell_type": "markdown",
      "metadata": {
        "id": "view-in-github",
        "colab_type": "text"
      },
      "source": [
        "<a href=\"https://colab.research.google.com/github/vikpy/basic_visualzation_in_R/blob/master/bentoml_quick_start_guide.ipynb\" target=\"_parent\"><img src=\"https://colab.research.google.com/assets/colab-badge.svg\" alt=\"Open In Colab\"/></a>"
      ]
    },
    {
      "cell_type": "markdown",
      "metadata": {
        "id": "wuD82aqH1IuN"
      },
      "source": [
        "# Getting Started with BentoML\n",
        "\n",
        "[BentoML](http://bentoml.ai) is an open-source framework for machine learning **model serving**, aiming to **bridge the gap between Data Science and DevOps**.\n",
        "\n",
        "Data Scientists can easily package their models trained with any ML framework using BentoMl and reproduce the model for serving in production. BentoML helps with managing packaged models in the BentoML format, and allows DevOps to deploy them as online API serving endpoints or offline batch inference jobs, on any cloud platform.\n",
        "\n",
        "This getting started guide demonstrates how to use BentoML to serve a sklearn modeld via a REST API server, and then containerize the model server for production deployment.\n",
        "\n",
        "![Impression](https://www.google-analytics.com/collect?v=1&tid=UA-112879361-3&cid=555&t=event&ec=guides&ea=bentoml-quick-start-guide&dt=bentoml-quick-start-guide)\n",
        "\n",
        "BentoML requires python 3.6 or above, install dependencies via `pip`:"
      ]
    },
    {
      "cell_type": "code",
      "metadata": {
        "id": "pZLBFePq1IuP",
        "outputId": "9f448358-310d-4c4e-f2ee-3133ead18b18",
        "colab": {
          "base_uri": "https://localhost:8080/",
          "height": 518
        }
      },
      "source": [
        "# Install PyPI packages required in this guide, including BentoML\n",
        "!pip install -q --pre bentoml \n",
        "!pip install -q 'scikit-learn>=0.23.2' 'pandas>=1.1.1'"
      ],
      "execution_count": 1,
      "outputs": [
        {
          "output_type": "stream",
          "text": [
            "\u001b[K     |████████████████████████████████| 3.7MB 7.9MB/s \n",
            "\u001b[K     |████████████████████████████████| 133kB 45.4MB/s \n",
            "\u001b[K     |████████████████████████████████| 61kB 7.6MB/s \n",
            "\u001b[K     |████████████████████████████████| 1.2MB 48.7MB/s \n",
            "\u001b[K     |████████████████████████████████| 112kB 51.5MB/s \n",
            "\u001b[K     |████████████████████████████████| 92kB 8.9MB/s \n",
            "\u001b[K     |████████████████████████████████| 81kB 8.3MB/s \n",
            "\u001b[K     |████████████████████████████████| 163kB 46.7MB/s \n",
            "\u001b[K     |████████████████████████████████| 61kB 6.7MB/s \n",
            "\u001b[K     |████████████████████████████████| 2.7MB 41.9MB/s \n",
            "\u001b[K     |████████████████████████████████| 153kB 42.5MB/s \n",
            "\u001b[K     |████████████████████████████████| 133kB 48.1MB/s \n",
            "\u001b[K     |████████████████████████████████| 6.7MB 40.9MB/s \n",
            "\u001b[K     |████████████████████████████████| 71kB 6.7MB/s \n",
            "\u001b[K     |████████████████████████████████| 296kB 44.4MB/s \n",
            "\u001b[K     |████████████████████████████████| 153kB 43.7MB/s \n",
            "\u001b[K     |████████████████████████████████| 552kB 42.8MB/s \n",
            "\u001b[K     |████████████████████████████████| 102kB 9.3MB/s \n",
            "\u001b[K     |████████████████████████████████| 81kB 8.1MB/s \n",
            "\u001b[K     |████████████████████████████████| 358kB 40.8MB/s \n",
            "\u001b[K     |████████████████████████████████| 204kB 51.1MB/s \n",
            "\u001b[K     |████████████████████████████████| 51kB 6.5MB/s \n",
            "\u001b[?25h  Building wheel for cerberus (setup.py) ... \u001b[?25l\u001b[?25hdone\n",
            "  Building wheel for python-json-logger (setup.py) ... \u001b[?25l\u001b[?25hdone\n",
            "  Building wheel for contextvars (setup.py) ... \u001b[?25l\u001b[?25hdone\n",
            "  Building wheel for sqlalchemy-utils (setup.py) ... \u001b[?25l\u001b[?25hdone\n",
            "  Building wheel for idna-ssl (setup.py) ... \u001b[?25l\u001b[?25hdone\n",
            "  Building wheel for thriftpy2 (setup.py) ... \u001b[?25l\u001b[?25hdone\n",
            "\u001b[K     |████████████████████████████████| 6.8MB 8.2MB/s \n",
            "\u001b[?25h"
          ],
          "name": "stdout"
        }
      ]
    },
    {
      "cell_type": "markdown",
      "metadata": {
        "id": "Q5uAzh-I1Iua"
      },
      "source": [
        "Before starting, let's prepare a trained model for serving with BentoML. Train a classifier model on the [Iris data set](https://en.wikipedia.org/wiki/Iris_flower_data_set):"
      ]
    },
    {
      "cell_type": "code",
      "metadata": {
        "id": "bxKtc-Z2UnuX",
        "outputId": "5bdbe246-9014-4b4a-cee9-ffeea72f69a2",
        "colab": {
          "base_uri": "https://localhost:8080/",
          "height": 34
        }
      },
      "source": [
        "import sklearn as sklearn \n",
        "sklearn.__version__"
      ],
      "execution_count": 2,
      "outputs": [
        {
          "output_type": "execute_result",
          "data": {
            "application/vnd.google.colaboratory.intrinsic+json": {
              "type": "string"
            },
            "text/plain": [
              "'0.23.2'"
            ]
          },
          "metadata": {
            "tags": []
          },
          "execution_count": 2
        }
      ]
    },
    {
      "cell_type": "code",
      "metadata": {
        "id": "UwW3HeyGUnuc",
        "outputId": "b5435148-c32b-464d-c9cb-b3fe8815739c",
        "colab": {
          "base_uri": "https://localhost:8080/",
          "height": 34
        }
      },
      "source": [
        "import pandas as pd \n",
        "pd.__version__"
      ],
      "execution_count": 3,
      "outputs": [
        {
          "output_type": "execute_result",
          "data": {
            "application/vnd.google.colaboratory.intrinsic+json": {
              "type": "string"
            },
            "text/plain": [
              "'1.1.2'"
            ]
          },
          "metadata": {
            "tags": []
          },
          "execution_count": 3
        }
      ]
    },
    {
      "cell_type": "code",
      "metadata": {
        "id": "n990G4poUnuf",
        "outputId": "d66280b4-b382-4a29-efa5-9debabdb5aa2"
      },
      "source": [
        "!pip --version"
      ],
      "execution_count": null,
      "outputs": [
        {
          "output_type": "stream",
          "text": [
            "pip 20.1 from c:\\python37\\lib\\site-packages\\pip (python 3.7)\n",
            "\n"
          ],
          "name": "stdout"
        }
      ]
    },
    {
      "cell_type": "code",
      "metadata": {
        "id": "zsSbgM9N1Iub",
        "outputId": "ae481367-1998-4cdd-a031-829789eeb306",
        "colab": {
          "base_uri": "https://localhost:8080/",
          "height": 34
        }
      },
      "source": [
        "from sklearn import svm\n",
        "from sklearn import datasets\n",
        "\n",
        "# Load training data\n",
        "iris = datasets.load_iris()\n",
        "X, y = iris.data, iris.target\n",
        "\n",
        "# Model Training\n",
        "clf = svm.SVC(gamma='scale')\n",
        "clf.fit(X, y)"
      ],
      "execution_count": 4,
      "outputs": [
        {
          "output_type": "execute_result",
          "data": {
            "text/plain": [
              "SVC()"
            ]
          },
          "metadata": {
            "tags": []
          },
          "execution_count": 4
        }
      ]
    },
    {
      "cell_type": "markdown",
      "metadata": {
        "id": "1vWOEAO01Iuw"
      },
      "source": [
        "## Create a Prediction Service with BentoML\n",
        "\n",
        "Model serving with BentoML comes after a model is trained. The first step is creating a\n",
        "prediction service class, which defines the models required and the inference APIs which\n",
        "contains the serving logic. Here is a minimal prediction service created for serving\n",
        "the iris classifier model trained above:"
      ]
    },
    {
      "cell_type": "code",
      "metadata": {
        "id": "nw-gOf--1Iuy",
        "outputId": "41c89993-fcde-4a39-849f-b513b356c371",
        "colab": {
          "base_uri": "https://localhost:8080/",
          "height": 34
        }
      },
      "source": [
        "%%writefile iris_classifier.py\n",
        "import pandas as pd\n",
        "\n",
        "from bentoml import env, artifacts, api, BentoService\n",
        "from bentoml.adapters import DataframeInput\n",
        "from bentoml.frameworks.sklearn import SklearnModelArtifact\n",
        "\n",
        "@env(infer_pip_packages=True)\n",
        "@artifacts([SklearnModelArtifact('model')])\n",
        "class IrisClassifier(BentoService):\n",
        "    \"\"\"\n",
        "    A minimum prediction service exposing a Scikit-learn model\n",
        "    \"\"\"\n",
        "\n",
        "    @api(input=DataframeInput(), batch=True)\n",
        "    def predict(self, df: pd.DataFrame):\n",
        "        \"\"\"\n",
        "        An inference API named `predict` with Dataframe input adapter, which codifies\n",
        "        how HTTP requests or CSV files are converted to a pandas Dataframe object as the\n",
        "        inference API function input\n",
        "        \"\"\"\n",
        "        return self.artifacts.model.predict(df)"
      ],
      "execution_count": 5,
      "outputs": [
        {
          "output_type": "stream",
          "text": [
            "Writing iris_classifier.py\n"
          ],
          "name": "stdout"
        }
      ]
    },
    {
      "cell_type": "markdown",
      "metadata": {
        "id": "fNbKHRd51Iu4"
      },
      "source": [
        "This code defines a prediction service that packages a scikit-learn model and provides\n",
        "an inference API that expects a `pandas.Dataframe` object as its input. BentoML also supports other API input \n",
        "data types including `JsonInput`, `ImageInput`, `FileInput` and \n",
        "[more](https://docs.bentoml.org/en/latest/api/adapters.html).\n",
        "\n",
        "\n",
        "In BentoML, **all inference APIs are suppose to accept a list of inputs and return a \n",
        "list of results**. In the case of `DataframeInput`, each row of the dataframe is mapping\n",
        "to one prediction request received from the client. BentoML will convert HTTP JSON \n",
        "requests into :code:`pandas.DataFrame` object before passing it to the user-defined \n",
        "inference API function.\n",
        " \n",
        "This design allows BentoML to group API requests into small batches while serving online\n",
        "traffic. Comparing to a regular flask or FastAPI based model server, this can increases\n",
        "the overall throughput of the API server by 10-100x depending on the workload.\n",
        "\n",
        "The following code packages the trained model with the prediction service class\n",
        "`IrisClassifier` defined above, and then saves the IrisClassifier instance to disk \n",
        "in the BentoML format for distribution and deployment:"
      ]
    },
    {
      "cell_type": "code",
      "metadata": {
        "id": "yfx-G6-L1Iu5",
        "outputId": "d4b8db7a-3275-43a7-b575-9f534a9c020f",
        "colab": {
          "base_uri": "https://localhost:8080/",
          "height": 106
        }
      },
      "source": [
        "# import the IrisClassifier class defined above\n",
        "from iris_classifier import IrisClassifier\n",
        "\n",
        "# Create a iris classifier service instance\n",
        "iris_classifier_service = IrisClassifier()\n",
        "\n",
        "# Pack the newly trained model artifact\n",
        "iris_classifier_service.pack('model', clf)\n",
        "\n",
        "# Save the prediction service to disk for model serving\n",
        "saved_path = iris_classifier_service.save()"
      ],
      "execution_count": 6,
      "outputs": [
        {
          "output_type": "stream",
          "text": [
            "[2020-10-18 06:09:58,259] WARNING - pip package requirement `bentoml==0.9.2` not found in current python environment\n"
          ],
          "name": "stdout"
        },
        {
          "output_type": "stream",
          "text": [
            "/usr/local/lib/python3.6/dist-packages/psycopg2/__init__.py:144: UserWarning: The psycopg2 wheel package will be renamed from release 2.8; in order to keep installing from binary please use \"pip install psycopg2-binary\" instead. For details see: <http://initd.org/psycopg/docs/install.html#binary-install-from-pypi>.\n",
            "  \"\"\")\n"
          ],
          "name": "stderr"
        },
        {
          "output_type": "stream",
          "text": [
            "[2020-10-18 06:09:59,814] INFO - BentoService bundle 'IrisClassifier:20201018060959_B823A8' saved to: /root/bentoml/repository/IrisClassifier/20201018060959_B823A8\n"
          ],
          "name": "stdout"
        }
      ]
    },
    {
      "cell_type": "markdown",
      "metadata": {
        "id": "Ygqywfq-1IvE"
      },
      "source": [
        "BentoML stores all packaged model files under the\n",
        "`~/bentoml/{service_name}/{service_version}` directory by default.\n",
        "The BentoML file format contains all the code, files, and configs required to \n",
        "deploy the model for serving.\n"
      ]
    },
    {
      "cell_type": "markdown",
      "metadata": {
        "id": "BDD9t0e01IvG"
      },
      "source": [
        "## REST API Model Serving\n",
        "\n",
        "\n",
        "\n",
        "To start a REST API model server with the `IrisClassifier` saved above, use \n",
        "the `bentoml serve` command:"
      ]
    },
    {
      "cell_type": "code",
      "metadata": {
        "id": "zkPw6wHu1IvH",
        "scrolled": false,
        "outputId": "70484f5f-91ed-4161-88c3-1ee94477ad4e",
        "colab": {
          "base_uri": "https://localhost:8080/",
          "height": 573
        }
      },
      "source": [
        "!bentoml serve IrisClassifier:latest --run-with-ngrok"
      ],
      "execution_count": 7,
      "outputs": [
        {
          "output_type": "stream",
          "text": [
            "/usr/local/lib/python3.6/dist-packages/psycopg2/__init__.py:144: UserWarning: The psycopg2 wheel package will be renamed from release 2.8; in order to keep installing from binary please use \"pip install psycopg2-binary\" instead. For details see: <http://initd.org/psycopg/docs/install.html#binary-install-from-pypi>.\n",
            "  \"\"\")\n",
            "[2020-10-18 06:10:09,075] INFO - Getting latest version IrisClassifier:20201018060959_B823A8\n",
            "[2020-10-18 06:10:09,076] INFO - Starting BentoML API server in development mode..\n",
            " * Serving Flask app \"IrisClassifier\" (lazy loading)\n",
            " * Environment: production\n",
            "\u001b[31m   WARNING: This is a development server. Do not use it in a production deployment.\u001b[0m\n",
            "\u001b[2m   Use a production WSGI server instead.\u001b[0m\n",
            " * Debug mode: off\n",
            " * Running on http://127.0.0.1:5000/ (Press CTRL+C to quit)\n",
            "[2020-10-18 06:10:15,004] INFO -  * Running on http://9164737b161b.ngrok.io\n",
            "[2020-10-18 06:10:15,004] INFO -  * Traffic stats available on http://127.0.0.1:4040\n",
            "127.0.0.1 - - [18/Oct/2020 06:10:19] \"\u001b[37mGET / HTTP/1.1\u001b[0m\" 200 -\n",
            "127.0.0.1 - - [18/Oct/2020 06:10:19] \"\u001b[37mGET /swagger_static/swagger-ui.css HTTP/1.1\u001b[0m\" 200 -\n",
            "127.0.0.1 - - [18/Oct/2020 06:10:19] \"\u001b[37mGET /swagger_static/swagger-ui-bundle.js HTTP/1.1\u001b[0m\" 200 -\n",
            "127.0.0.1 - - [18/Oct/2020 06:10:30] \"\u001b[37mGET /docs.json HTTP/1.1\u001b[0m\" 200 -\n",
            "127.0.0.1 - - [18/Oct/2020 06:10:31] \"\u001b[33mGET /favicon.ico HTTP/1.1\u001b[0m\" 404 -\n",
            "2020-10-18 06:13:01.016719: I tensorflow/stream_executor/platform/default/dso_loader.cc:48] Successfully opened dynamic library libcudart.so.10.1\n",
            "[2020-10-18 06:13:02,312] INFO - {'service_name': 'IrisClassifier', 'service_version': '20201018060959_B823A8', 'api': 'predict', 'task': {'data': '[[5.1,3.5,1.4,0.2]]', 'task_id': '78925760-dc30-493f-bc79-ecbd90fe05fc', 'batch': 1, 'http_headers': (('Host', '9164737b161b.ngrok.io'), ('User-Agent', 'Mozilla/5.0 (Windows NT 10.0; Win64; x64) AppleWebKit/537.36 (KHTML, like Gecko) Chrome/86.0.4240.75 Safari/537.36'), ('Content-Length', '19'), ('Accept', '*/*'), ('Accept-Encoding', 'gzip, deflate'), ('Accept-Language', 'en-US,en;q=0.9'), ('Content-Type', 'application/json'), ('Origin', 'http://9164737b161b.ngrok.io'), ('Referer', 'http://9164737b161b.ngrok.io/'), ('X-Forwarded-For', '103.207.59.55'), ('X-Forwarded-Proto', 'http'))}, 'result': {'data': '[0]', 'http_status': 200, 'http_headers': (('Content-Type', 'application/json'),)}, 'request_id': '78925760-dc30-493f-bc79-ecbd90fe05fc'}\n",
            "127.0.0.1 - - [18/Oct/2020 06:13:02] \"\u001b[37mPOST /predict HTTP/1.1\u001b[0m\" 200 -\n",
            "[2020-10-18 06:13:47,959] INFO - {'service_name': 'IrisClassifier', 'service_version': '20201018060959_B823A8', 'api': 'predict', 'task': {'data': '[[6.1,5,2.4,2.2]]', 'task_id': '3c6fb655-ab23-4daf-af18-c3f8842fe798', 'batch': 1, 'http_headers': (('Host', '9164737b161b.ngrok.io'), ('User-Agent', 'Mozilla/5.0 (Windows NT 10.0; Win64; x64) AppleWebKit/537.36 (KHTML, like Gecko) Chrome/86.0.4240.75 Safari/537.36'), ('Content-Length', '17'), ('Accept', '*/*'), ('Accept-Encoding', 'gzip, deflate'), ('Accept-Language', 'en-US,en;q=0.9'), ('Content-Type', 'application/json'), ('Origin', 'http://9164737b161b.ngrok.io'), ('Referer', 'http://9164737b161b.ngrok.io/'), ('X-Forwarded-For', '103.207.59.55'), ('X-Forwarded-Proto', 'http'))}, 'result': {'data': '[0]', 'http_status': 200, 'http_headers': (('Content-Type', 'application/json'),)}, 'request_id': '3c6fb655-ab23-4daf-af18-c3f8842fe798'}\n",
            "127.0.0.1 - - [18/Oct/2020 06:13:47] \"\u001b[37mPOST /predict HTTP/1.1\u001b[0m\" 200 -\n",
            "[2020-10-18 06:13:52,908] INFO - {'service_name': 'IrisClassifier', 'service_version': '20201018060959_B823A8', 'api': 'predict', 'task': {'data': '[[6.1,5,2.4,2.2]]', 'task_id': 'eb0be6f0-db26-41c9-b99e-90939be34534', 'batch': 1, 'http_headers': (('Host', '9164737b161b.ngrok.io'), ('User-Agent', 'Mozilla/5.0 (Windows NT 10.0; Win64; x64) AppleWebKit/537.36 (KHTML, like Gecko) Chrome/86.0.4240.75 Safari/537.36'), ('Content-Length', '17'), ('Accept', '*/*'), ('Accept-Encoding', 'gzip, deflate'), ('Accept-Language', 'en-US,en;q=0.9'), ('Content-Type', 'application/json'), ('Origin', 'http://9164737b161b.ngrok.io'), ('Referer', 'http://9164737b161b.ngrok.io/'), ('X-Forwarded-For', '103.207.59.55'), ('X-Forwarded-Proto', 'http'))}, 'result': {'data': '[0]', 'http_status': 200, 'http_headers': (('Content-Type', 'application/json'),)}, 'request_id': 'eb0be6f0-db26-41c9-b99e-90939be34534'}\n",
            "127.0.0.1 - - [18/Oct/2020 06:13:52] \"\u001b[37mPOST /predict HTTP/1.1\u001b[0m\" 200 -\n",
            "[2020-10-18 06:14:07,548] INFO - {'service_name': 'IrisClassifier', 'service_version': '20201018060959_B823A8', 'api': 'predict', 'task': {'data': '[[10,3,5,8]]', 'task_id': 'd2f5f1f0-7657-4b84-bc1d-a34e35412627', 'batch': 1, 'http_headers': (('Host', '9164737b161b.ngrok.io'), ('User-Agent', 'Mozilla/5.0 (Windows NT 10.0; Win64; x64) AppleWebKit/537.36 (KHTML, like Gecko) Chrome/86.0.4240.75 Safari/537.36'), ('Content-Length', '12'), ('Accept', '*/*'), ('Accept-Encoding', 'gzip, deflate'), ('Accept-Language', 'en-US,en;q=0.9'), ('Content-Type', 'application/json'), ('Origin', 'http://9164737b161b.ngrok.io'), ('Referer', 'http://9164737b161b.ngrok.io/'), ('X-Forwarded-For', '103.207.59.55'), ('X-Forwarded-Proto', 'http'))}, 'result': {'data': '[2]', 'http_status': 200, 'http_headers': (('Content-Type', 'application/json'),)}, 'request_id': 'd2f5f1f0-7657-4b84-bc1d-a34e35412627'}\n",
            "127.0.0.1 - - [18/Oct/2020 06:14:07] \"\u001b[37mPOST /predict HTTP/1.1\u001b[0m\" 200 -\n",
            "[2020-10-18 06:32:27,929] INFO - {'service_name': 'IrisClassifier', 'service_version': '20201018060959_B823A8', 'api': 'predict', 'task': {'data': '[[10,3,5,8],[1.2,3.2,3,1]]', 'task_id': '2053b7f6-adc7-43bb-8c61-2ff793fb08b9', 'batch': 2, 'http_headers': (('Host', '9164737b161b.ngrok.io'), ('User-Agent', 'Mozilla/5.0 (Windows NT 10.0; Win64; x64) AppleWebKit/537.36 (KHTML, like Gecko) Chrome/86.0.4240.75 Safari/537.36'), ('Content-Length', '26'), ('Accept', '*/*'), ('Accept-Encoding', 'gzip, deflate'), ('Accept-Language', 'en-US,en;q=0.9'), ('Content-Type', 'application/json'), ('Origin', 'http://9164737b161b.ngrok.io'), ('Referer', 'http://9164737b161b.ngrok.io/'), ('X-Forwarded-For', '103.207.59.55'), ('X-Forwarded-Proto', 'http'))}, 'result': {'data': '[2, 0]', 'http_status': 200, 'http_headers': (('Content-Type', 'application/json'),)}, 'request_id': '2053b7f6-adc7-43bb-8c61-2ff793fb08b9'}\n",
            "127.0.0.1 - - [18/Oct/2020 06:32:27] \"\u001b[37mPOST /predict HTTP/1.1\u001b[0m\" 200 -\n",
            "\n",
            "Aborted!\n",
            "^C\n"
          ],
          "name": "stdout"
        }
      ]
    },
    {
      "cell_type": "markdown",
      "metadata": {
        "id": "Tr9kx46o1IvP"
      },
      "source": [
        "If you are running this notebook from Google Colab, you can start the dev server with `--run-with-ngrok` option, to gain acccess to the API endpoint via a public endpoint managed by [ngrok](https://ngrok.com/): "
      ]
    },
    {
      "cell_type": "code",
      "metadata": {
        "id": "m0U0xbOk1IvR",
        "scrolled": true,
        "outputId": "ef058557-a3b7-483d-ca3a-ad319a04d2cb"
      },
      "source": [
        "!bentoml serve IrisClassifier:latest --run-with-ngrok"
      ],
      "execution_count": null,
      "outputs": [
        {
          "output_type": "stream",
          "text": [
            "^C\n"
          ],
          "name": "stdout"
        }
      ]
    },
    {
      "cell_type": "markdown",
      "metadata": {
        "id": "KEL19ZC31Iva"
      },
      "source": [
        "The `IrisClassifier` model is now served at `localhost:5000`. Use `curl` command to send\n",
        "a prediction request:\n",
        "\n",
        "```bash\n",
        "curl -i \\\n",
        "--header \"Content-Type: application/json\" \\\n",
        "--request POST \\\n",
        "--data '[[5.1, 3.5, 1.4, 0.2]]' \\\n",
        "localhost:5000/predict\n",
        "```\n",
        "\n",
        "Or with `python` and [request library](https://requests.readthedocs.io/):\n",
        "```python\n",
        "import requests\n",
        "response = requests.post(\"http://127.0.0.1:5000/predict\", json=[[5.1, 3.5, 1.4, 0.2]])\n",
        "print(response.text)\n",
        "```\n",
        "\n",
        "Note that BentoML API server automatically converts the Dataframe JSON format into a\n",
        "`pandas.DataFrame` object before sending it to the user-defined inference API function.\n",
        "\n",
        "The BentoML API server also provides a simple web UI dashboard.\n",
        "Go to http://localhost:5000 in the browser and use the Web UI to send\n",
        "prediction request:\n",
        "\n",
        "![BentoML API Server Web UI Screenshot](https://raw.githubusercontent.com/bentoml/BentoML/master/guides/quick-start/bento-api-server-web-ui.png)"
      ]
    },
    {
      "cell_type": "markdown",
      "metadata": {
        "id": "HSifNPGV1Ivc"
      },
      "source": [
        "## Containerize model server with Docker\n",
        "\n",
        "\n",
        "\n",
        "One common way of distributing this model API server for production deployment, is via\n",
        "Docker containers. And BentoML provides a convenient way to do that.\n",
        "\n",
        "Note that `docker` is __note available in Google Colab__. You will need to download and run this notebook locally to try out this containerization with docker feature.\n",
        "\n",
        "If you already have docker configured, simply run the follow command to product a \n",
        "docker container serving the `IrisClassifier` prediction service created above:"
      ]
    },
    {
      "cell_type": "code",
      "metadata": {
        "id": "AeImT_eP1Ivd",
        "outputId": "0648ec4a-d80c-4910-ca4a-64e39d0f3191"
      },
      "source": [
        "!bentoml containerize IrisClassifier:latest -t iris-classifier"
      ],
      "execution_count": null,
      "outputs": [
        {
          "output_type": "stream",
          "text": [
            "[2020-10-18 11:32:42,907] INFO - Getting latest version IrisClassifier:20201018111338_D2897D\n",
            "Found Bento: C:\\Users\\Vikraant Pai/bentoml/repository/IrisClassifier\\20201018111338_D2897D\n",
            "Image version not specified, using version parsed from BentoService: '20201018111338_D2897D'\n",
            "Building Docker image iris-classifier:20201018111338_D2897D from IrisClassifier:latest \n",
            "\n"
          ],
          "name": "stdout"
        },
        {
          "output_type": "stream",
          "text": [
            "Traceback (most recent call last):\n",
            "  File \"c:\\python37\\lib\\runpy.py\", line 193, in _run_module_as_main\n",
            "    \"__main__\", mod_spec)\n",
            "  File \"c:\\python37\\lib\\runpy.py\", line 85, in _run_code\n",
            "    exec(code, run_globals)\n",
            "  File \"C:\\Python37\\Scripts\\bentoml.exe\\__main__.py\", line 7, in <module>\n",
            "  File \"c:\\python37\\lib\\site-packages\\click\\core.py\", line 764, in __call__\n",
            "    return self.main(*args, **kwargs)\n",
            "  File \"c:\\python37\\lib\\site-packages\\click\\core.py\", line 717, in main\n",
            "    rv = self.invoke(ctx)\n",
            "  File \"c:\\python37\\lib\\site-packages\\click\\core.py\", line 1137, in invoke\n",
            "    return _process_result(sub_ctx.command.invoke(sub_ctx))\n",
            "  File \"c:\\python37\\lib\\site-packages\\click\\core.py\", line 956, in invoke\n",
            "    return ctx.invoke(self.callback, **ctx.params)\n",
            "  File \"c:\\python37\\lib\\site-packages\\click\\core.py\", line 555, in invoke\n",
            "    return callback(*args, **kwargs)\n",
            "  File \"c:\\python37\\lib\\site-packages\\bentoml\\cli\\click_utils.py\", line 138, in wrapper\n",
            "    return func(*args, **kwargs)\n",
            "  File \"c:\\python37\\lib\\site-packages\\bentoml\\cli\\click_utils.py\", line 115, in wrapper\n",
            "    return_value = func(*args, **kwargs)\n",
            "  File \"c:\\python37\\lib\\site-packages\\bentoml\\cli\\click_utils.py\", line 99, in wrapper\n",
            "    return func(*args, **kwargs)\n",
            "  File \"c:\\python37\\lib\\site-packages\\bentoml\\cli\\bento_service.py\", line 417, in containerize\n",
            "    buildargs=docker_build_args,\n",
            "  File \"c:\\python37\\lib\\site-packages\\docker\\api\\build.py\", line 269, in build\n",
            "    timeout=timeout,\n",
            "  File \"c:\\python37\\lib\\site-packages\\docker\\utils\\decorators.py\", line 46, in inner\n",
            "    return f(self, *args, **kwargs)\n",
            "  File \"c:\\python37\\lib\\site-packages\\docker\\api\\client.py\", line 226, in _post\n",
            "    return self.post(url, **self._set_request_timeout(kwargs))\n",
            "  File \"c:\\python37\\lib\\site-packages\\requests\\sessions.py\", line 581, in post\n",
            "    return self.request('POST', url, data=data, json=json, **kwargs)\n",
            "  File \"c:\\python37\\lib\\site-packages\\requests\\sessions.py\", line 533, in request\n",
            "    resp = self.send(prep, **send_kwargs)\n",
            "  File \"c:\\python37\\lib\\site-packages\\requests\\sessions.py\", line 646, in send\n",
            "    r = adapter.send(request, **kwargs)\n",
            "  File \"c:\\python37\\lib\\site-packages\\requests\\adapters.py\", line 449, in send\n",
            "    timeout=timeout\n",
            "  File \"c:\\python37\\lib\\site-packages\\urllib3\\connectionpool.py\", line 600, in urlopen\n",
            "    chunked=chunked)\n",
            "  File \"c:\\python37\\lib\\site-packages\\urllib3\\connectionpool.py\", line 354, in _make_request\n",
            "    conn.request(method, url, **httplib_request_kw)\n",
            "  File \"c:\\python37\\lib\\http\\client.py\", line 1244, in request\n",
            "    self._send_request(method, url, body, headers, encode_chunked)\n",
            "  File \"c:\\python37\\lib\\http\\client.py\", line 1290, in _send_request\n",
            "    self.endheaders(body, encode_chunked=encode_chunked)\n",
            "  File \"c:\\python37\\lib\\http\\client.py\", line 1239, in endheaders\n",
            "    self._send_output(message_body, encode_chunked=encode_chunked)\n",
            "  File \"c:\\python37\\lib\\http\\client.py\", line 1026, in _send_output\n",
            "    self.send(msg)\n",
            "  File \"c:\\python37\\lib\\http\\client.py\", line 966, in send\n",
            "    self.connect()\n",
            "  File \"c:\\python37\\lib\\site-packages\\docker\\transport\\npipeconn.py\", line 32, in connect\n",
            "    sock.connect(self.npipe_path)\n",
            "  File \"c:\\python37\\lib\\site-packages\\docker\\transport\\npipesocket.py\", line 23, in wrapped\n",
            "    return f(self, *args, **kwargs)\n",
            "  File \"c:\\python37\\lib\\site-packages\\docker\\transport\\npipesocket.py\", line 72, in connect\n",
            "    raise e\n",
            "  File \"c:\\python37\\lib\\site-packages\\docker\\transport\\npipesocket.py\", line 59, in connect\n",
            "    0\n",
            "pywintypes.error: (2, 'CreateFile', 'The system cannot find the file specified.')\n"
          ],
          "name": "stderr"
        }
      ]
    },
    {
      "cell_type": "markdown",
      "metadata": {
        "id": "jdb-f_MP1Ivn"
      },
      "source": [
        "Start a container with the docker image built in the previous step:"
      ]
    },
    {
      "cell_type": "code",
      "metadata": {
        "id": "BW1tbwKd1Ivo",
        "outputId": "afe2372a-7f54-4b54-ba25-b645d1af61ae"
      },
      "source": [
        "!docker run -p 5000:5000 iris-classifier:latest --workers=1 --enable-microbatch"
      ],
      "execution_count": null,
      "outputs": [
        {
          "output_type": "stream",
          "text": [
            "'docker' is not recognized as an internal or external command,\n",
            "operable program or batch file.\n"
          ],
          "name": "stderr"
        }
      ]
    },
    {
      "cell_type": "markdown",
      "metadata": {
        "id": "u33ADaRV1Ivu"
      },
      "source": [
        "This made it possible to deploy BentoML bundled ML models with platforms such as\n",
        "[Kubeflow](https://www.kubeflow.org/docs/components/serving/bentoml/),\n",
        "[Knative](https://knative.dev/community/samples/serving/machinelearning-python-bentoml/),\n",
        "[Kubernetes](https://docs.bentoml.org/en/latest/deployment/kubernetes.html), which\n",
        "provides advanced model deployment features such as auto-scaling, A/B testing,\n",
        "scale-to-zero, canary rollout and multi-armed bandit.\n",
        "\n",
        "\n",
        "## Load saved BentoService\n",
        "\n",
        "`bentoml.load` is the API for loading a BentoML packaged model in python:"
      ]
    },
    {
      "cell_type": "code",
      "metadata": {
        "id": "G4ihgFmt1Ivv",
        "outputId": "8358033d-44f1-4581-aa64-13134d9986e7"
      },
      "source": [
        "import bentoml\n",
        "import pandas as pd\n",
        "\n",
        "bento_svc = bentoml.load(saved_path)\n",
        "\n",
        "# Test loaded bentoml service:\n",
        "bento_svc.predict([X[0]])"
      ],
      "execution_count": null,
      "outputs": [
        {
          "output_type": "stream",
          "text": [
            "[2020-10-18 11:32:45,400] WARNING - Module `iris_classifier` already loaded, using existing imported module.\n",
            "[2020-10-18 11:32:45,408] WARNING - pip package requirement pandas already exist\n",
            "[2020-10-18 11:32:45,411] WARNING - pip package requirement scikit-learn already exist\n"
          ],
          "name": "stdout"
        },
        {
          "output_type": "execute_result",
          "data": {
            "text/plain": [
              "memmap([0])"
            ]
          },
          "metadata": {
            "tags": []
          },
          "execution_count": 21
        }
      ]
    },
    {
      "cell_type": "markdown",
      "metadata": {
        "id": "D7Wj_c2T1Iv2"
      },
      "source": [
        "The BentoML format is pip-installable and can be directly distributed as a\n",
        "PyPI package for using in python applications:"
      ]
    },
    {
      "cell_type": "code",
      "metadata": {
        "id": "3eS65BiV1Iv3",
        "outputId": "29f538eb-1c2c-4b46-f21d-3563527a2e31"
      },
      "source": [
        "!pip install -q {saved_path}"
      ],
      "execution_count": null,
      "outputs": [
        {
          "output_type": "stream",
          "text": [
            "ERROR: Invalid requirement: 'C:\\\\Users\\\\Vikraant'\n",
            "Hint: It looks like a path. File 'C:\\Users\\Vikraant' does not exist.\n",
            "WARNING: You are using pip version 20.1; however, version 20.2.4 is available.\n",
            "You should consider upgrading via the 'c:\\python37\\python.exe -m pip install --upgrade pip' command.\n"
          ],
          "name": "stderr"
        }
      ]
    },
    {
      "cell_type": "code",
      "metadata": {
        "id": "VEO-iqky1Iv9",
        "outputId": "0808bd2d-9896-4d30-dbca-24a619104c7b"
      },
      "source": [
        "# The BentoService class name will become packaged name\n",
        "import IrisClassifier\n",
        "\n",
        "installed_svc = IrisClassifier.load()\n",
        "installed_svc.predict([X[0]])"
      ],
      "execution_count": null,
      "outputs": [
        {
          "output_type": "error",
          "ename": "ModuleNotFoundError",
          "evalue": "No module named 'IrisClassifier'",
          "traceback": [
            "\u001b[1;31m---------------------------------------------------------------------------\u001b[0m",
            "\u001b[1;31mModuleNotFoundError\u001b[0m                       Traceback (most recent call last)",
            "\u001b[1;32m<ipython-input-23-5711998e6869>\u001b[0m in \u001b[0;36m<module>\u001b[1;34m\u001b[0m\n\u001b[0;32m      1\u001b[0m \u001b[1;31m# The BentoService class name will become packaged name\u001b[0m\u001b[1;33m\u001b[0m\u001b[1;33m\u001b[0m\u001b[1;33m\u001b[0m\u001b[0m\n\u001b[1;32m----> 2\u001b[1;33m \u001b[1;32mimport\u001b[0m \u001b[0mIrisClassifier\u001b[0m\u001b[1;33m\u001b[0m\u001b[1;33m\u001b[0m\u001b[0m\n\u001b[0m\u001b[0;32m      3\u001b[0m \u001b[1;33m\u001b[0m\u001b[0m\n\u001b[0;32m      4\u001b[0m \u001b[0minstalled_svc\u001b[0m \u001b[1;33m=\u001b[0m \u001b[0mIrisClassifier\u001b[0m\u001b[1;33m.\u001b[0m\u001b[0mload\u001b[0m\u001b[1;33m(\u001b[0m\u001b[1;33m)\u001b[0m\u001b[1;33m\u001b[0m\u001b[1;33m\u001b[0m\u001b[0m\n\u001b[0;32m      5\u001b[0m \u001b[0minstalled_svc\u001b[0m\u001b[1;33m.\u001b[0m\u001b[0mpredict\u001b[0m\u001b[1;33m(\u001b[0m\u001b[1;33m[\u001b[0m\u001b[0mX\u001b[0m\u001b[1;33m[\u001b[0m\u001b[1;36m0\u001b[0m\u001b[1;33m]\u001b[0m\u001b[1;33m]\u001b[0m\u001b[1;33m)\u001b[0m\u001b[1;33m\u001b[0m\u001b[1;33m\u001b[0m\u001b[0m\n",
            "\u001b[1;31mModuleNotFoundError\u001b[0m: No module named 'IrisClassifier'"
          ]
        }
      ]
    },
    {
      "cell_type": "markdown",
      "metadata": {
        "id": "j95o7NFL1IwH"
      },
      "source": [
        "This also allow users to upload their BentoService to pypi.org as public python package\n",
        "or to their organization's private PyPi index to share with other developers.\n",
        "\n",
        "`cd {saved_path} & python setup.py sdist upload`\n",
        "\n",
        "*You will have to configure \".pypirc\" file before uploading to pypi index.\n",
        "    You can find more information about distributing python package at:\n",
        "    https://docs.python.org/3.7/distributing/index.html#distributing-index*\n",
        "\n",
        "\n",
        "# Launch inference job from CLI"
      ]
    },
    {
      "cell_type": "markdown",
      "metadata": {
        "id": "J1rXnvO61IwJ"
      },
      "source": [
        "BentoML cli supports loading and running a packaged model from CLI. With the `DataframeInput` adapter, the CLI command supports reading input Dataframe data from CLI argument or local `csv` or `json` files:"
      ]
    },
    {
      "cell_type": "code",
      "metadata": {
        "id": "ypzTwEj51IwL"
      },
      "source": [
        "!bentoml run IrisClassifier:latest predict --input='[[5.1, 3.5, 1.4, 0.2]]'"
      ],
      "execution_count": null,
      "outputs": []
    },
    {
      "cell_type": "code",
      "metadata": {
        "id": "PiZpusks1IwR"
      },
      "source": [
        "!bentoml run IrisClassifier:latest predict \\\n",
        "    --input-file=\"./iris_data.csv\""
      ],
      "execution_count": null,
      "outputs": []
    },
    {
      "cell_type": "markdown",
      "metadata": {
        "id": "BkLPaVgM1IwZ"
      },
      "source": [
        "# Deployment Options\n",
        "\n",
        "If you are at a small team with limited engineering or DevOps resources, try out automated deployment with BentoML CLI, currently supporting AWS Lambda, AWS SageMaker, and Azure Functions:\n",
        "  - [AWS Lambda Deployment Guide](https://docs.bentoml.org/en/latest/deployment/aws_lambda.html)\n",
        "  - [AWS SageMaker Deployment Guide](https://docs.bentoml.org/en/latest/deployment/aws_sagemaker.html)\n",
        "  - [Azure Functions Deployment Guide](https://docs.bentoml.org/en/latest/deployment/azure_functions.html)\n",
        "\n",
        "If the cloud platform you are working with is not on the list above, try out these step-by-step guide on manually deploying BentoML packaged model to cloud platforms:\n",
        "  - [AWS ECS Deployment](https://docs.bentoml.org/en/latest/deployment/aws_ecs.html)\n",
        "  - [Google Cloud Run Deployment](https://docs.bentoml.org/en/latest/deployment/google_cloud_run.html)\n",
        "  - [Azure container instance Deployment](https://docs.bentoml.org/en/latest/deployment/azure_container_instance.html)\n",
        "  - [Heroku Deployment](https://docs.bentoml.org/en/latest/deployment/heroku.html)\n",
        "\n",
        "Lastly, if you have a DevOps or ML Engineering team who's operating a Kubernetes or OpenShift cluster, use the following guides as references for implementating your deployment strategy:\n",
        "  - [Kubernetes Deployment](https://docs.bentoml.org/en/latest/deployment/kubernetes.html)\n",
        "  - [Knative Deployment](https://docs.bentoml.org/en/latest/deployment/knative.html)\n",
        "  - [Kubeflow Deployment](https://docs.bentoml.org/en/latest/deployment/kubeflow.html)\n",
        "  - [KFServing Deployment](https://docs.bentoml.org/en/latest/deployment/kfserving.html)\n",
        "  - [Clipper.ai Deployment Guide](https://docs.bentoml.org/en/latest/deployment/clipper.html)\n",
        "\n"
      ]
    },
    {
      "cell_type": "markdown",
      "metadata": {
        "id": "iBdYbnHP1Iwa"
      },
      "source": [
        "# Summary\n",
        "\n",
        "This is what it looks like when using BentoML to serve and deploy a model in the cloud. BentoML also supports [many other Machine Learning frameworks](https://docs.bentoml.org/en/latest/examples.html) besides Scikit-learn. The [BentoML core concepts](https://docs.bentoml.org/en/latest/concepts.html) doc is recommended for anyone looking to get a deeper understanding of BentoML.\n",
        "\n",
        "Join the [BentoML Slack](https://join.slack.com/t/bentoml/shared_invite/enQtNjcyMTY3MjE4NTgzLTU3ZDc1MWM5MzQxMWQxMzJiNTc1MTJmMzYzMTYwMjQ0OGEwNDFmZDkzYWQxNzgxYWNhNjAxZjk4MzI4OGY1Yjg) to follow the latest development updates and roadmap discussions."
      ]
    }
  ]
}